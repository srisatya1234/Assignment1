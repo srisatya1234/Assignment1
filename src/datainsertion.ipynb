{
 "cells": [
  {
   "cell_type": "code",
   "execution_count": 46,
   "metadata": {},
   "outputs": [],
   "source": [
    "from config import CONFIG\n",
    "from storageutils import MySQLManager"
   ]
  },
  {
   "cell_type": "code",
   "execution_count": 51,
   "metadata": {},
   "outputs": [],
   "source": [
    "from faker import Faker\n",
    "import numpy as np\n",
    "import random\n",
    "\n",
    "fake = Faker()\n",
    "genre_list = ['Drama', 'Thriller', 'Action', 'Comedy','Horror']\n",
    "\n",
    "def faker_data_generator(num=1, seed=None):\n",
    "    fake.seed_instance(seed)\n",
    "    output = []\n",
    "    for x in range(num):\n",
    "      movie_title = fake.sentence(nb_words=3)\n",
    "      date=  fake.date_between(start_date='-30y', end_date='today').strftime('%Y-%m-%d')\n",
    "      output.append(\n",
    "        {\n",
    "            \"movie_id\": x+250,\n",
    "            \"title\": movie_title,\n",
    "            \"genre\": random.choice(genre_list),\n",
    "            \"director\": fake.name(),        \n",
    "            \"release_date\": date\n",
    "        }\n",
    "      )\n",
    "      return output"
   ]
  },
  {
   "cell_type": "code",
   "execution_count": 52,
   "metadata": {},
   "outputs": [
    {
     "data": {
      "text/plain": [
       "1"
      ]
     },
     "execution_count": 52,
     "metadata": {},
     "output_type": "execute_result"
    }
   ],
   "source": [
    "movies_data = faker_data_generator(250, 2)\n",
    "table = 'Movie526'\n",
    "cols = ['movie_id', 'title', 'genre', 'director', 'release_date']\n",
    "data = []\n",
    "for item in movies_data:\n",
    "    x = {}\n",
    "    x['movie_id'] = item['movie_id']\n",
    "    x['title'] = item['title']\n",
    "    x['genre'] = item['genre']\n",
    "    x['director'] = item['director']\n",
    "    x['release_date'] = item['release_date']\n",
    "    data.append(x)\n",
    "    if len(data) > 200:\n",
    "        MySQLManager.bulk_insert(table, cols, data, **CONFIG[\"database\"][\"gnits\"])\n",
    "        data = []\n",
    "MySQLManager.bulk_insert(table, cols, data, **CONFIG[\"database\"][\"gnits\"])"
   ]
  },
  {
   "cell_type": "code",
   "execution_count": 58,
   "metadata": {},
   "outputs": [
    {
     "data": {
      "text/plain": [
       "[]"
      ]
     },
     "execution_count": 58,
     "metadata": {},
     "output_type": "execute_result"
    }
   ],
   "source": [
    "query = \"select * from Movie526;\"\n",
    "res=[]\n",
    "try:\n",
    "    res=MySQLManager.execute_query(query,None,**CONFIG['database']['gnits'])\n",
    "except Exception as error:\n",
    "    print(error)\n",
    "res"
   ]
  },
  {
   "cell_type": "code",
   "execution_count": 57,
   "metadata": {},
   "outputs": [
    {
     "data": {
      "text/plain": [
       "[]"
      ]
     },
     "execution_count": 57,
     "metadata": {},
     "output_type": "execute_result"
    }
   ],
   "source": [
    "query = \"delete from Movie526 where movie_id=0;\"\n",
    "res=[]\n",
    "try:\n",
    "    res=MySQLManager.execute_query(query,None,**CONFIG['database']['gnits'])\n",
    "except Exception as error:\n",
    "    print(error)\n",
    "res"
   ]
  }
 ],
 "metadata": {
  "kernelspec": {
   "display_name": ".venv",
   "language": "python",
   "name": "python3"
  },
  "language_info": {
   "codemirror_mode": {
    "name": "ipython",
    "version": 3
   },
   "file_extension": ".py",
   "mimetype": "text/x-python",
   "name": "python",
   "nbconvert_exporter": "python",
   "pygments_lexer": "ipython3",
   "version": "3.11.2"
  },
  "orig_nbformat": 4
 },
 "nbformat": 4,
 "nbformat_minor": 2
}
